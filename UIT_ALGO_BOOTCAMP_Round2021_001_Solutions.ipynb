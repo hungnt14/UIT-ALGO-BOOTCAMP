{
  "nbformat": 4,
  "nbformat_minor": 0,
  "metadata": {
    "colab": {
      "name": "UIT-ALGO-BOOTCAMP_Round2021-001_Solutions",
      "provenance": []
    },
    "kernelspec": {
      "name": "python3",
      "display_name": "Python 3"
    },
    "language_info": {
      "name": "python"
    }
  },
  "cells": [
    {
      "cell_type": "markdown",
      "metadata": {
        "id": "fjJB_MDVlt8S"
      },
      "source": [
        "# **Hidden words**\n"
      ]
    },
    {
      "cell_type": "markdown",
      "metadata": {
        "id": "ogfkeV2TbSLz"
      },
      "source": [
        "# **Tóm tắt đề**:\n",
        "\n",
        "Cho một bảng gồm $ N $ hàng và $ M $ cột và một chuỗi Q truy vấn. Với mỗi truy vấn hãy cho biết xem có tồn tại chuỗi đó nằm trên cột hoặc hàng của bảng đó hay không (chỉ xét từ trên xuống đối với cột và từ trái sang đối với hàng).\n",
        "\n",
        "# **Thuật toán**:\n",
        "\n",
        "Ta xây dựng cây Trie lưu trữ tất cả các xâu tồn tại trên bảng đó, vì đề bài giới hạn độ dài các truy vấn là $ 10 $ nên ta chỉ cần lưu các xâu có độ dài không vượt quá $ 10 $. \n",
        "\n",
        "Ta duyệt qua tất cả các xâu thỏa mãn điều kiện trên nằm trong bảng và thêm chúng vào cây Trie. Sau đó trả lời từng truy vấn là có tồn tại hay không.\n",
        "\n",
        "# **Tags**: \n",
        "Trie, Data Structure"
      ]
    },
    {
      "cell_type": "code",
      "metadata": {
        "id": "5IUKF7MfldF3",
        "colab": {
          "base_uri": "https://localhost:8080/"
        },
        "outputId": "33825339-6f17-423d-be10-997a6896568d"
      },
      "source": [
        "n, m, q = map(int, input().split())\n",
        "\n",
        "a = []\n",
        "trie = [[0] * 30 for i in range(2000015)]\n",
        "\n",
        "height = 1\n",
        "\n",
        "def add(s):\n",
        "    global height\n",
        "    croot = 1\n",
        "    for i in range(len(s)):\n",
        "        idx = ord(s[i]) - 97\n",
        "        if (trie[croot][idx] == 0):\n",
        "            trie[croot][idx] = height\n",
        "            height += 1\n",
        "        croot = trie[croot][idx]\n",
        "\n",
        "def query(s):\n",
        "    croot = 1\n",
        "    for i in range(len(s)):\n",
        "        idx = ord(s[i]) - 97\n",
        "        if (trie[croot][idx] == 0):\n",
        "            return False\n",
        "        croot = trie[croot][idx]\n",
        "    return True\n",
        "\n",
        "for i in range(n):\n",
        "    s = input().split()\n",
        "    a.append(s[0].split())\n",
        "\n",
        "for i in range(n):\n",
        "    for j in range(m):\n",
        "        # add by rows\n",
        "        t = 0\n",
        "        c1 = \"\"\n",
        "        while (t < 10 and j + t < m):\n",
        "            c1 += a[i][0][j + t]\n",
        "            t += 1\n",
        "        add(c1)\n",
        "\n",
        "        # add by cols\n",
        "        t = 0\n",
        "        c2 = \"\"\n",
        "        while (t < 10 and i + t < n):\n",
        "            c2 += a[i + t][0][j]\n",
        "            t += 1\n",
        "        add(c2)\n",
        "\n",
        "ans = \"\"\n",
        "for i in range(q):\n",
        "    x = input().split()\n",
        "    res = query(x[0])\n",
        "    if (res):\n",
        "        ans += \"1\"\n",
        "    else:\n",
        "        ans += \"0\"\n",
        "print(ans)"
      ],
      "execution_count": 2,
      "outputs": [
        {
          "output_type": "stream",
          "text": [
            "5 5 6\n",
            "kicko\n",
            "ffalg\n",
            "oboot\n",
            "campc\n",
            "ontes\n",
            "ff\n",
            "catp\n",
            "cao\n",
            "kick\n",
            "olo\n",
            "kfops\n",
            "101100\n"
          ],
          "name": "stdout"
        }
      ]
    },
    {
      "cell_type": "markdown",
      "metadata": {
        "id": "0fbkC9-i62-p"
      },
      "source": [
        "# **True expression**"
      ]
    },
    {
      "cell_type": "markdown",
      "metadata": {
        "id": "obD_ipOcn7Op"
      },
      "source": [
        "# **Tóm tắt đề**:\n",
        "\n",
        "Cho dãy số nguyên dương từ $ 1 $ tới $ n $. Đặt các dấu $ + $ hoặc $ - $ phía trước mỗi số để đạt được tổng $ S $ cho trước hoặc cho biết không có cách nào để đạt được tổng $ S $ đấy.\n",
        "\n",
        "# **Thuật toán**:\n",
        "\n",
        "Đặt $ T = \\sum_{i=1}^{n} i \\ = \\frac {n(n + 1)}{2} $ \n",
        "\n",
        "Ta nhận thấy, nếu đổi dấu $ + $ thành dấu $ - $ trước mỗi số $ i $ nào đó thì tổng $ T $ sẽ giảm đi một lượng là $ 2i $ và để đạt được tổng $ S $ cho trước thì phải thỏa điều kiện $ S \\leq T $.\n",
        "\n",
        "Vậy ta phải giảm tổng T để bằng tổng S bằng cách đặt dấu $ - $ trước một vài số. Ta được biểu thức như sau:\n",
        "\n",
        "$ T - S = 2x_{1} + 2x_{2} + ... + 2x_{m} $ với $ m \\leq n $ và $ x_{1}, x_{2}, ..., x_{m} $ là các số đặt dấu $ - $ ở phía trước.\n",
        "\n",
        "Vậy ta phải tìm các số có tổng là $ \\frac {T - S}{2} $ hoặc cho biết là không tìm được. Ta sử dụng quy hoạch động để tìm được chuỗi các số đấy.\n",
        "\n",
        "# **Tags**: \n",
        "Dynamic Programming"
      ]
    },
    {
      "cell_type": "code",
      "metadata": {
        "colab": {
          "base_uri": "https://localhost:8080/"
        },
        "id": "43AhXzVj69gZ",
        "outputId": "9e9c44ad-e278-44d4-f1b5-e4c13c51c53f"
      },
      "source": [
        "n, s = map(int, input().split())\n",
        "f = [0 for i in range(10005)]\n",
        "p = [-1 for i in range(10005)]\n",
        "isNeg = [0 for i in range(n + 5)]\n",
        "\n",
        "dif = (n * (n + 1)) // 2 - s\n",
        "\n",
        "if (dif < 0 or abs(dif) % 2 == 1):\n",
        "    print(\"NO_SOLUTION\")\n",
        "else:\n",
        "    dif = dif // 2\n",
        "    f[0] = 1\n",
        "    for i in range(1, n + 1):\n",
        "        j = dif\n",
        "        while (j >= i):\n",
        "            if (f[j] == 0 and f[j - i] == 1):\n",
        "                f[j] = 1\n",
        "                p[j] = j - i\n",
        "            j -= 1\n",
        "    c = dif\n",
        "    while (1):\n",
        "        if (p[c] == -1):\n",
        "            break\n",
        "        isNeg[c - p[c]] = 1\n",
        "        c = p[c]\n",
        "    ans = \"\"\n",
        "    for i in range(1, n + 1):\n",
        "        if (isNeg[i]):\n",
        "            ans += \"-\"\n",
        "        else: \n",
        "            ans += \"+\"\n",
        "    print(ans)"
      ],
      "execution_count": 1,
      "outputs": [
        {
          "output_type": "stream",
          "text": [
            "5 7\n",
            "-+-++\n"
          ],
          "name": "stdout"
        }
      ]
    },
    {
      "cell_type": "markdown",
      "metadata": {
        "id": "UpuRAdMSgBdX"
      },
      "source": [
        "# **Splitting carrots**\n"
      ]
    },
    {
      "cell_type": "markdown",
      "metadata": {
        "id": "XafonEUmgX71"
      },
      "source": [
        "# **Tóm tắt đề**:\n",
        "\n",
        "Cho dãy số nguyên dương từ a, Tìm cách xóa phần tử sao cho dãy mới không thể chia đôi.\n",
        "\n",
        "# **Tags**: \n",
        "Dynamic Programming"
      ]
    },
    {
      "cell_type": "code",
      "metadata": {
        "id": "1w7RZVMHf7H6"
      },
      "source": [
        "n = int(input())\n",
        "a = list(map(int, input().split()))\n",
        "f = [0 for i in range(200015)]\n",
        "sum = 0\n",
        "\n",
        "for i in range(n):\n",
        "    sum += a[i]\n",
        "\n",
        "ans = 0\n",
        "while (True):\n",
        "    if (sum % 2):\n",
        "        break\n",
        "    else:\n",
        "        cnt = 0\n",
        "        for i in range(n):\n",
        "            cnt += (a[i] % 2)\n",
        "        if (cnt):\n",
        "            break\n",
        "        for i in range(n):\n",
        "            a[i] = a[i] // 2\n",
        "        sum = sum // 2\n",
        "\n",
        "f[0] = 1\n",
        "\n",
        "for i in range(n):\n",
        "    j = sum - a[i]\n",
        "    while (j >= 0):\n",
        "        if (f[j]):\n",
        "            f[j + a[i]] = 1\n",
        "        j -= 1\n",
        "\n",
        "rs = -1\n",
        "if (sum % 2 or f[sum // 2] == 0):\n",
        "    ans = 0\n",
        "else:\n",
        "    ans = 1\n",
        "    for i in range(n):\n",
        "        if (a[i] % 2):\n",
        "            res = i\n",
        "\n",
        "print(ans)\n",
        "if (ans):\n",
        "    print(res)"
      ],
      "execution_count": null,
      "outputs": []
    }
  ]
}