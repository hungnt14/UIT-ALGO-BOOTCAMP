{
  "nbformat": 4,
  "nbformat_minor": 0,
  "metadata": {
    "colab": {
      "name": "UIT-ALGO-BOOTCAMP_Warmup_Solutions",
      "provenance": [],
      "collapsed_sections": []
    },
    "kernelspec": {
      "name": "python3",
      "display_name": "Python 3"
    },
    "language_info": {
      "name": "python"
    }
  },
  "cells": [
    {
      "cell_type": "markdown",
      "metadata": {
        "id": "cEW5_RkGU8Yp"
      },
      "source": [
        "# **VW05p_Enrichement**\n"
      ]
    },
    {
      "cell_type": "markdown",
      "metadata": {
        "id": "P0WjNewnVJWS"
      },
      "source": [
        "# **Tóm tắt đề**:\n",
        "\n",
        "Cho ma trận có kích thước $ n \\times m $, tìm ma trận con có kích thước $ 3 \\times 3 $ sao cho tổng các phần tử là nhỏ nhất.\n",
        "\n",
        "# **Thuật toán**:\n",
        "\n",
        "Duyệt qua tất cả các ma trận con có kích cỡ $ 3 \\times 3 $ và tìm ma trận con có tổng nhỏ nhất.\n",
        "\n",
        "# **Tags**: \n",
        "Brute force, Implementation"
      ]
    },
    {
      "cell_type": "code",
      "metadata": {
        "id": "9sHcJYgVUkJW",
        "colab": {
          "base_uri": "https://localhost:8080/"
        },
        "outputId": "1c939902-39b6-4cba-f8b5-254c214c37ab"
      },
      "source": [
        "n, m = map(int, input().split())\n",
        "a = []\n",
        "\n",
        "for i in range(n):\n",
        "    r = list(map(int, input().split()))\n",
        "    a.append(r)\n",
        "\n",
        "ans = 1000000000\n",
        "\n",
        "for i in range(n - 2):\n",
        "    for j in range(m - 2):\n",
        "        sum = 0\n",
        "        for k in range(9):\n",
        "            sum += a[i + k // 3][j + k % 3]\n",
        "        ans = min(ans, sum)\n",
        "\n",
        "print(ans)"
      ],
      "execution_count": 4,
      "outputs": [
        {
          "output_type": "stream",
          "text": [
            "5 7\n",
            "10 2 3 7 10 4 8\n",
            "3 2 1 9 6 2 1\n",
            "0 3 6 7 8 9 10\n",
            "5 4 3 0 2 1 8\n",
            "9 2 3 10 6 4 8\n",
            "27\n"
          ],
          "name": "stdout"
        }
      ]
    },
    {
      "cell_type": "markdown",
      "metadata": {
        "id": "KFKJz5-RZ8WG"
      },
      "source": [
        "\n",
        "\n",
        "*   **Note:** Cách cài đặt sử dụng python cho bài này cũng như các bài khác hiện chưa được tối ưu về mặt bộ nhớ cũng như thời gian. Python xử lý khá chậm so với C++ nên chưa thể pass được toàn bộ các test cases.\n",
        "\n",
        "![image.png](data:image/png;base64,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)\n"
      ]
    },
    {
      "cell_type": "markdown",
      "metadata": {
        "id": "oH_muPWcAxIn"
      },
      "source": [
        "# **VW04p_Checkout**\n"
      ]
    },
    {
      "cell_type": "markdown",
      "metadata": {
        "id": "ku-iPhsZAxox"
      },
      "source": [
        "# **Tóm tắt đề**:\n",
        "\n",
        "Khoảng cách giữa hai ga A và B là $ d $. Tàu tăng tốc với gia tốc $ a_{1} $ để tăng tốc từ $ 0 $ tới vận tốc nào đó không vượt quá $ v $ rồi chạy tốc độ này trong khoảng thời gian không ít hơn $ t $, sau đó, giảm tốc độ với gia tốc $ a_{2} $ để dừng lại tại ga B. Tìm khoảng thời gian ngắn nhất để đi từ A tới B.\n",
        "\n",
        "# **Thuật toán**:\n",
        "\n",
        "Tìm $ max(v) $ sao cho không vượt quá $ v $ giới hạn của đề bài để khoảng thời gian đi được là ngắn nhất.\n",
        "\n",
        "# **Tags**: \n",
        "Maths"
      ]
    },
    {
      "cell_type": "code",
      "metadata": {
        "colab": {
          "base_uri": "https://localhost:8080/"
        },
        "id": "_gc0RK3gAzNh",
        "outputId": "fed70f5c-db0b-4db5-a907-5df58a2e569e"
      },
      "source": [
        "import math\n",
        "d, a1, a2, v, t = map(float, input().split())\n",
        "\n",
        "a = -(1 / (2 * a1) + 1 / (2 * a2))\n",
        "de = t * t - 4 * a * d\n",
        "x1 = (t + math.sqrt(de)) / (2 * a)\n",
        "x2 = (t - math.sqrt(de)) / (2 * a)\n",
        "\n",
        "v = min(v, max(x1, x2))\n",
        "res = v / (2 * a1) + v / (2 * a2) +  d / v\n",
        "print(round(res, 12))"
      ],
      "execution_count": 12,
      "outputs": [
        {
          "output_type": "stream",
          "text": [
            "20.5 0.5 0.6 3 7.5\n",
            "14.373007108234\n"
          ],
          "name": "stdout"
        }
      ]
    },
    {
      "cell_type": "markdown",
      "metadata": {
        "id": "ZM2wLf4XuOFs"
      },
      "source": [
        "# **VW07p_Vitamin**\n"
      ]
    },
    {
      "cell_type": "markdown",
      "metadata": {
        "id": "G8Uou1ACuWQL"
      },
      "source": [
        "\n",
        "# **Tóm tắt đề**:\n",
        "\n",
        "Một máy sản xuất vitamin liên tục trong $ n $ giờ thì giờ thứ $ i $ cho $ a_{i} $ đơn vị vitamin, nếu máy ngừng hoạt động lâu hơn $ 1 $ giờ thì lượng vitamin cho ra ở mỗi giờ thứ $ i $ sẽ được bắt đầu lại từ $ a_{1}, a_{2}, a_{3},... $. Xác định thời gian ít nhất để tạo ra được $ x $ đơn vị vitamin hoặc cho biết không có cách nào để sản xuất được $ x $ đơn vị vitamin ấy.\n",
        "\n",
        "# **Thuật toán**:\n",
        "\n",
        "1.   Gọi $ f_{c} $ là thời gian ngắn nhất để sản xuất $ c $ đơn vị vitamin; $ s_{i} $ là tổng lượng vitamin nhận được khi chạy tới giờ thứ $ i $. Ban đầu, $ f_{i} = +\\infty $ và $ s_{i} = s_{i-1} + a_{i} $.\n",
        "2.   Xét 2 trường hợp:\n",
        "\n",
        "*   TH1: Máy đang cần sản xuất c đơn vị vitamin và phải chạy trong $ i $ giờ liên tục rồi tạm nghỉ trong $ 1 $ giờ ($ 1 \\le i \\le n $).\n",
        "\n",
        "    * Lượng vitamin còn lại cần phải sản xuất tiếp: $ c - s_{i} $\n",
        "    * Số giờ tốn cho việc sản xuất và tạm nghỉ: i + 1\n",
        "    \n",
        "    => Công thức quy hoạch động: $ f_{c} = min(f_{c}, f_{c - s_{i}} + i + 1) $\n",
        "*   TH2: Máy đang cần sản xuất c đơn vị vitamin và phải chạy trong $ n + k $ giờ liên tục rồi tạm nghỉ trong $ 1 $ giờ.\n",
        "    * Ta nhận thấy để tối ưu thì ta chỉ cần sản xuất tới khi nào tổng lượng vitamin không vượt quá $ c $, vì vậy, ta cần chọn $ max(k) $ sao cho $ s_{n} + k \\times a_{n} \\le c $\n",
        "    * $ max(k) $ thỏa $ s_{n} + k \\times a_{n} \\le c $: $ k = \\lfloor {\\frac{c-s_{n}}{a_{n}}} \\rfloor $\n",
        "    * Lượng vitamin còn lại cần phải sản xuất tiếp: $ c - s_{n} - k \\times a_{n} $\n",
        "    * Số giờ tốn cho việc sản xuất và tạm nghỉ: $ n + k + 1 $\n",
        "\n",
        "    => Công thức quy hoạch động: $ f_{c} = min(f_{c}, f_{c - s_{n} - k \\times a_{n}} + n + k + 1) $\n",
        "\n",
        "# **Tags**: \n",
        "Dynamic Programming"
      ]
    },
    {
      "cell_type": "code",
      "metadata": {
        "colab": {
          "base_uri": "https://localhost:8080/"
        },
        "id": "haPXnaH8zN0c",
        "outputId": "ccdb4259-cd87-422f-cef1-a1b758ddc56f"
      },
      "source": [
        "n, x = map(int, input().split())\n",
        "\n",
        "a = list(map(int, input().split()))\n",
        "s = [0 for i in range(n)]\n",
        "f = [1000000000 for i in range(x + 1)]\n",
        "\n",
        "for i in range(n):\n",
        "    if (i > 0):\n",
        "        s[i] = s[i - 1] + a[i]\n",
        "    else:\n",
        "        s[i] = a[i]\n",
        "\n",
        "f[0] = -1\n",
        "\n",
        "for c in range(x + 1):\n",
        "    for i in range(n):\n",
        "        if (s[i] <= c):\n",
        "            f[c] = min(f[c], f[c - s[i]] + i + 2)\n",
        "            if (i == n - 1):\n",
        "                k = (c - s[n - 1]) // a[n - 1]\n",
        "                f[c] = min(f[c], f[c - (s[n - 1] + k * a[n - 1])] + n + k + 1)\n",
        "\n",
        "if (f[x] == 1000000000):\n",
        "    print(-1)\n",
        "else:\n",
        "    print(f[x])"
      ],
      "execution_count": 5,
      "outputs": [
        {
          "output_type": "stream",
          "text": [
            "5 12\n",
            "1 4 2 6 3\n",
            "6\n"
          ],
          "name": "stdout"
        }
      ]
    }
  ]
}
